{
 "cells": [
  {
   "cell_type": "markdown",
   "metadata": {},
   "source": [
    "## Final Project Submission\n",
    "\n",
    "Please fill out:\n",
    "* Student name: \n",
    "* Student pace: self paced / part time / full time\n",
    "* Scheduled project review date/time: \n",
    "* Instructor name: \n",
    "* Blog post URL:\n"
   ]
  },
  {
   "cell_type": "code",
   "execution_count": 1,
   "metadata": {},
   "outputs": [],
   "source": [
    "#Using a Neural Network classification for predicting market moves based on headlines"
   ]
  },
  {
   "cell_type": "code",
   "execution_count": 2,
   "metadata": {},
   "outputs": [],
   "source": [
    "#link for data source -https://www.kaggle.com/aaron7sun/stocknews/downloads/stocknews.zip/1"
   ]
  },
  {
   "cell_type": "code",
   "execution_count": 3,
   "metadata": {},
   "outputs": [
    {
     "name": "stderr",
     "output_type": "stream",
     "text": [
      "Using TensorFlow backend.\n"
     ]
    }
   ],
   "source": [
    "#Importing relevant libraries\n",
    "import numpy as np\n",
    "import pandas as pd\n",
    "import glob\n",
    "import os\n",
    "import tensorflow as tf\n",
    "import matplotlib.pyplot as plt\n",
    "import random\n",
    "import statistics\n",
    "from sklearn.model_selection import train_test_split\n",
    "from keras.utils.np_utils import to_categorical\n",
    "from sklearn import preprocessing\n",
    "from sklearn.metrics import accuracy_score \n",
    "from keras.preprocessing.text import Tokenizer\n",
    "from keras import models\n",
    "from keras import layers\n",
    "from keras import optimizers\n",
    "from keras.utils import np_utils\n",
    "from sklearn.feature_extraction.text import TfidfVectorizer,CountVectorizer\n",
    "from keras.preprocessing import sequence\n",
    "from keras.utils import np_utils\n",
    "from keras.models import Sequential\n",
    "from keras.layers.core import Dense, Dropout, Activation, Lambda\n",
    "from keras.layers.embeddings import Embedding\n",
    "from keras.layers.recurrent import LSTM, SimpleRNN, GRU\n",
    "from keras.preprocessing.text import Tokenizer\n",
    "from collections import defaultdict\n",
    "from keras.layers.convolutional import Convolution1D\n",
    "from keras import backend as K\n",
    "import seaborn as sns\n",
    "import matplotlib.pyplot as plt\n",
    "from matplotlib import cm\n",
    "from textblob import TextBlob \n",
    "%matplotlib inline\n",
    "plt.style.use('ggplot')\n",
    "\n",
    "\n",
    "\n"
   ]
  },
  {
   "cell_type": "code",
   "execution_count": 4,
   "metadata": {},
   "outputs": [
    {
     "data": {
      "text/html": [
       "<div>\n",
       "<style scoped>\n",
       "    .dataframe tbody tr th:only-of-type {\n",
       "        vertical-align: middle;\n",
       "    }\n",
       "\n",
       "    .dataframe tbody tr th {\n",
       "        vertical-align: top;\n",
       "    }\n",
       "\n",
       "    .dataframe thead th {\n",
       "        text-align: right;\n",
       "    }\n",
       "</style>\n",
       "<table border=\"1\" class=\"dataframe\">\n",
       "  <thead>\n",
       "    <tr style=\"text-align: right;\">\n",
       "      <th></th>\n",
       "      <th>Date</th>\n",
       "      <th>Label</th>\n",
       "      <th>Top1</th>\n",
       "      <th>Top2</th>\n",
       "      <th>Top3</th>\n",
       "      <th>Top4</th>\n",
       "      <th>Top5</th>\n",
       "      <th>Top6</th>\n",
       "      <th>Top7</th>\n",
       "      <th>Top8</th>\n",
       "      <th>...</th>\n",
       "      <th>Top16</th>\n",
       "      <th>Top17</th>\n",
       "      <th>Top18</th>\n",
       "      <th>Top19</th>\n",
       "      <th>Top20</th>\n",
       "      <th>Top21</th>\n",
       "      <th>Top22</th>\n",
       "      <th>Top23</th>\n",
       "      <th>Top24</th>\n",
       "      <th>Top25</th>\n",
       "    </tr>\n",
       "  </thead>\n",
       "  <tbody>\n",
       "    <tr>\n",
       "      <td>0</td>\n",
       "      <td>2008-08-08</td>\n",
       "      <td>0</td>\n",
       "      <td>b\"Georgia 'downs two Russian warplanes' as cou...</td>\n",
       "      <td>b'BREAKING: Musharraf to be impeached.'</td>\n",
       "      <td>b'Russia Today: Columns of troops roll into So...</td>\n",
       "      <td>b'Russian tanks are moving towards the capital...</td>\n",
       "      <td>b\"Afghan children raped with 'impunity,' U.N. ...</td>\n",
       "      <td>b'150 Russian tanks have entered South Ossetia...</td>\n",
       "      <td>b\"Breaking: Georgia invades South Ossetia, Rus...</td>\n",
       "      <td>b\"The 'enemy combatent' trials are nothing but...</td>\n",
       "      <td>...</td>\n",
       "      <td>b'Georgia Invades South Ossetia - if Russia ge...</td>\n",
       "      <td>b'Al-Qaeda Faces Islamist Backlash'</td>\n",
       "      <td>b'Condoleezza Rice: \"The US would not act to p...</td>\n",
       "      <td>b'This is a busy day:  The European Union has ...</td>\n",
       "      <td>b\"Georgia will withdraw 1,000 soldiers from Ir...</td>\n",
       "      <td>b'Why the Pentagon Thinks Attacking Iran is a ...</td>\n",
       "      <td>b'Caucasus in crisis: Georgia invades South Os...</td>\n",
       "      <td>b'Indian shoe manufactory  - And again in a se...</td>\n",
       "      <td>b'Visitors Suffering from Mental Illnesses Ban...</td>\n",
       "      <td>b\"No Help for Mexico's Kidnapping Surge\"</td>\n",
       "    </tr>\n",
       "    <tr>\n",
       "      <td>1</td>\n",
       "      <td>2008-08-11</td>\n",
       "      <td>1</td>\n",
       "      <td>b'Why wont America and Nato help us? If they w...</td>\n",
       "      <td>b'Bush puts foot down on Georgian conflict'</td>\n",
       "      <td>b\"Jewish Georgian minister: Thanks to Israeli ...</td>\n",
       "      <td>b'Georgian army flees in disarray as Russians ...</td>\n",
       "      <td>b\"Olympic opening ceremony fireworks 'faked'\"</td>\n",
       "      <td>b'What were the Mossad with fraudulent New Zea...</td>\n",
       "      <td>b'Russia angered by Israeli military sale to G...</td>\n",
       "      <td>b'An American citizen living in S.Ossetia blam...</td>\n",
       "      <td>...</td>\n",
       "      <td>b'Israel and the US behind the Georgian aggres...</td>\n",
       "      <td>b'\"Do not believe TV, neither Russian nor Geor...</td>\n",
       "      <td>b'Riots are still going on in Montreal (Canada...</td>\n",
       "      <td>b'China to overtake US as largest manufacturer'</td>\n",
       "      <td>b'War in South Ossetia [PICS]'</td>\n",
       "      <td>b'Israeli Physicians Group Condemns State Tort...</td>\n",
       "      <td>b' Russia has just beaten the United States ov...</td>\n",
       "      <td>b'Perhaps *the* question about the Georgia - R...</td>\n",
       "      <td>b'Russia is so much better at war'</td>\n",
       "      <td>b\"So this is what it's come to: trading sex fo...</td>\n",
       "    </tr>\n",
       "  </tbody>\n",
       "</table>\n",
       "<p>2 rows × 27 columns</p>\n",
       "</div>"
      ],
      "text/plain": [
       "         Date  Label                                               Top1  \\\n",
       "0  2008-08-08      0  b\"Georgia 'downs two Russian warplanes' as cou...   \n",
       "1  2008-08-11      1  b'Why wont America and Nato help us? If they w...   \n",
       "\n",
       "                                          Top2  \\\n",
       "0      b'BREAKING: Musharraf to be impeached.'   \n",
       "1  b'Bush puts foot down on Georgian conflict'   \n",
       "\n",
       "                                                Top3  \\\n",
       "0  b'Russia Today: Columns of troops roll into So...   \n",
       "1  b\"Jewish Georgian minister: Thanks to Israeli ...   \n",
       "\n",
       "                                                Top4  \\\n",
       "0  b'Russian tanks are moving towards the capital...   \n",
       "1  b'Georgian army flees in disarray as Russians ...   \n",
       "\n",
       "                                                Top5  \\\n",
       "0  b\"Afghan children raped with 'impunity,' U.N. ...   \n",
       "1      b\"Olympic opening ceremony fireworks 'faked'\"   \n",
       "\n",
       "                                                Top6  \\\n",
       "0  b'150 Russian tanks have entered South Ossetia...   \n",
       "1  b'What were the Mossad with fraudulent New Zea...   \n",
       "\n",
       "                                                Top7  \\\n",
       "0  b\"Breaking: Georgia invades South Ossetia, Rus...   \n",
       "1  b'Russia angered by Israeli military sale to G...   \n",
       "\n",
       "                                                Top8  ...  \\\n",
       "0  b\"The 'enemy combatent' trials are nothing but...  ...   \n",
       "1  b'An American citizen living in S.Ossetia blam...  ...   \n",
       "\n",
       "                                               Top16  \\\n",
       "0  b'Georgia Invades South Ossetia - if Russia ge...   \n",
       "1  b'Israel and the US behind the Georgian aggres...   \n",
       "\n",
       "                                               Top17  \\\n",
       "0                b'Al-Qaeda Faces Islamist Backlash'   \n",
       "1  b'\"Do not believe TV, neither Russian nor Geor...   \n",
       "\n",
       "                                               Top18  \\\n",
       "0  b'Condoleezza Rice: \"The US would not act to p...   \n",
       "1  b'Riots are still going on in Montreal (Canada...   \n",
       "\n",
       "                                               Top19  \\\n",
       "0  b'This is a busy day:  The European Union has ...   \n",
       "1    b'China to overtake US as largest manufacturer'   \n",
       "\n",
       "                                               Top20  \\\n",
       "0  b\"Georgia will withdraw 1,000 soldiers from Ir...   \n",
       "1                     b'War in South Ossetia [PICS]'   \n",
       "\n",
       "                                               Top21  \\\n",
       "0  b'Why the Pentagon Thinks Attacking Iran is a ...   \n",
       "1  b'Israeli Physicians Group Condemns State Tort...   \n",
       "\n",
       "                                               Top22  \\\n",
       "0  b'Caucasus in crisis: Georgia invades South Os...   \n",
       "1  b' Russia has just beaten the United States ov...   \n",
       "\n",
       "                                               Top23  \\\n",
       "0  b'Indian shoe manufactory  - And again in a se...   \n",
       "1  b'Perhaps *the* question about the Georgia - R...   \n",
       "\n",
       "                                               Top24  \\\n",
       "0  b'Visitors Suffering from Mental Illnesses Ban...   \n",
       "1                 b'Russia is so much better at war'   \n",
       "\n",
       "                                               Top25  \n",
       "0           b\"No Help for Mexico's Kidnapping Surge\"  \n",
       "1  b\"So this is what it's come to: trading sex fo...  \n",
       "\n",
       "[2 rows x 27 columns]"
      ]
     },
     "execution_count": 4,
     "metadata": {},
     "output_type": "execute_result"
    }
   ],
   "source": [
    "#Importing and viewing dataset\n",
    "# Index(Label) is direction of overall stock market for the day 1 is up 0 is down\n",
    "data = pd.read_csv('./stocknews/Combined_News_DJIA.csv')\n",
    "data.head(2)\n",
    "\n"
   ]
  },
  {
   "cell_type": "code",
   "execution_count": 5,
   "metadata": {},
   "outputs": [
    {
     "data": {
      "text/html": [
       "<div>\n",
       "<style scoped>\n",
       "    .dataframe tbody tr th:only-of-type {\n",
       "        vertical-align: middle;\n",
       "    }\n",
       "\n",
       "    .dataframe tbody tr th {\n",
       "        vertical-align: top;\n",
       "    }\n",
       "\n",
       "    .dataframe thead th {\n",
       "        text-align: right;\n",
       "    }\n",
       "</style>\n",
       "<table border=\"1\" class=\"dataframe\">\n",
       "  <thead>\n",
       "    <tr style=\"text-align: right;\">\n",
       "      <th></th>\n",
       "      <th>Date</th>\n",
       "      <th>Label</th>\n",
       "      <th>Top1</th>\n",
       "      <th>Top2</th>\n",
       "      <th>Top3</th>\n",
       "      <th>Top4</th>\n",
       "      <th>Top5</th>\n",
       "      <th>Top6</th>\n",
       "      <th>Top7</th>\n",
       "      <th>Top8</th>\n",
       "      <th>...</th>\n",
       "      <th>Top16</th>\n",
       "      <th>Top17</th>\n",
       "      <th>Top18</th>\n",
       "      <th>Top19</th>\n",
       "      <th>Top20</th>\n",
       "      <th>Top21</th>\n",
       "      <th>Top22</th>\n",
       "      <th>Top23</th>\n",
       "      <th>Top24</th>\n",
       "      <th>Top25</th>\n",
       "    </tr>\n",
       "  </thead>\n",
       "  <tbody>\n",
       "    <tr>\n",
       "      <td>1987</td>\n",
       "      <td>2016-06-30</td>\n",
       "      <td>1</td>\n",
       "      <td>Jamaica proposes marijuana dispensers for tour...</td>\n",
       "      <td>Stephen Hawking says pollution and 'stupidity'...</td>\n",
       "      <td>Boris Johnson says he will not run for Tory pa...</td>\n",
       "      <td>Six gay men in Ivory Coast were abused and for...</td>\n",
       "      <td>Switzerland denies citizenship to Muslim immig...</td>\n",
       "      <td>Palestinian terrorist stabs israeli teen girl ...</td>\n",
       "      <td>Puerto Rico will default on $1 billion of debt...</td>\n",
       "      <td>Republic of Ireland fans to be awarded medal f...</td>\n",
       "      <td>...</td>\n",
       "      <td>Googles free wifi at Indian railway stations i...</td>\n",
       "      <td>Mounting evidence suggests 'hobbits' were wipe...</td>\n",
       "      <td>The men who carried out Tuesday's terror attac...</td>\n",
       "      <td>Calls to suspend Saudi Arabia from UN Human Ri...</td>\n",
       "      <td>More Than 100 Nobel Laureates Call Out Greenpe...</td>\n",
       "      <td>British pedophile sentenced to 85 years in US ...</td>\n",
       "      <td>US permitted 1,200 offshore fracks in Gulf of ...</td>\n",
       "      <td>We will be swimming in ridicule - French beach...</td>\n",
       "      <td>UEFA says no minutes of silence for Istanbul v...</td>\n",
       "      <td>Law Enforcement Sources: Gun Used in Paris Ter...</td>\n",
       "    </tr>\n",
       "    <tr>\n",
       "      <td>1988</td>\n",
       "      <td>2016-07-01</td>\n",
       "      <td>1</td>\n",
       "      <td>A 117-year-old woman in Mexico City finally re...</td>\n",
       "      <td>IMF chief backs Athens as permanent Olympic host</td>\n",
       "      <td>The president of France says if Brexit won, so...</td>\n",
       "      <td>British Man Who Must Give Police 24 Hours' Not...</td>\n",
       "      <td>100+ Nobel laureates urge Greenpeace to stop o...</td>\n",
       "      <td>Brazil: Huge spike in number of police killing...</td>\n",
       "      <td>Austria's highest court annuls presidential el...</td>\n",
       "      <td>Facebook wins privacy case, can track any Belg...</td>\n",
       "      <td>...</td>\n",
       "      <td>The United States has placed Myanmar, Uzbekist...</td>\n",
       "      <td>S&amp;amp;P revises European Union credit rating t...</td>\n",
       "      <td>India gets $1 billion loan from World Bank for...</td>\n",
       "      <td>U.S. sailors detained by Iran spoke too much u...</td>\n",
       "      <td>Mass fish kill in Vietnam solved as Taiwan ste...</td>\n",
       "      <td>Philippines president Rodrigo Duterte urges pe...</td>\n",
       "      <td>Spain arrests three Pakistanis accused of prom...</td>\n",
       "      <td>Venezuela, where anger over food shortages is ...</td>\n",
       "      <td>A Hindu temple worker has been killed by three...</td>\n",
       "      <td>Ozone layer hole seems to be healing - US &amp;amp...</td>\n",
       "    </tr>\n",
       "  </tbody>\n",
       "</table>\n",
       "<p>2 rows × 27 columns</p>\n",
       "</div>"
      ],
      "text/plain": [
       "            Date  Label                                               Top1  \\\n",
       "1987  2016-06-30      1  Jamaica proposes marijuana dispensers for tour...   \n",
       "1988  2016-07-01      1  A 117-year-old woman in Mexico City finally re...   \n",
       "\n",
       "                                                   Top2  \\\n",
       "1987  Stephen Hawking says pollution and 'stupidity'...   \n",
       "1988   IMF chief backs Athens as permanent Olympic host   \n",
       "\n",
       "                                                   Top3  \\\n",
       "1987  Boris Johnson says he will not run for Tory pa...   \n",
       "1988  The president of France says if Brexit won, so...   \n",
       "\n",
       "                                                   Top4  \\\n",
       "1987  Six gay men in Ivory Coast were abused and for...   \n",
       "1988  British Man Who Must Give Police 24 Hours' Not...   \n",
       "\n",
       "                                                   Top5  \\\n",
       "1987  Switzerland denies citizenship to Muslim immig...   \n",
       "1988  100+ Nobel laureates urge Greenpeace to stop o...   \n",
       "\n",
       "                                                   Top6  \\\n",
       "1987  Palestinian terrorist stabs israeli teen girl ...   \n",
       "1988  Brazil: Huge spike in number of police killing...   \n",
       "\n",
       "                                                   Top7  \\\n",
       "1987  Puerto Rico will default on $1 billion of debt...   \n",
       "1988  Austria's highest court annuls presidential el...   \n",
       "\n",
       "                                                   Top8  ...  \\\n",
       "1987  Republic of Ireland fans to be awarded medal f...  ...   \n",
       "1988  Facebook wins privacy case, can track any Belg...  ...   \n",
       "\n",
       "                                                  Top16  \\\n",
       "1987  Googles free wifi at Indian railway stations i...   \n",
       "1988  The United States has placed Myanmar, Uzbekist...   \n",
       "\n",
       "                                                  Top17  \\\n",
       "1987  Mounting evidence suggests 'hobbits' were wipe...   \n",
       "1988  S&amp;P revises European Union credit rating t...   \n",
       "\n",
       "                                                  Top18  \\\n",
       "1987  The men who carried out Tuesday's terror attac...   \n",
       "1988  India gets $1 billion loan from World Bank for...   \n",
       "\n",
       "                                                  Top19  \\\n",
       "1987  Calls to suspend Saudi Arabia from UN Human Ri...   \n",
       "1988  U.S. sailors detained by Iran spoke too much u...   \n",
       "\n",
       "                                                  Top20  \\\n",
       "1987  More Than 100 Nobel Laureates Call Out Greenpe...   \n",
       "1988  Mass fish kill in Vietnam solved as Taiwan ste...   \n",
       "\n",
       "                                                  Top21  \\\n",
       "1987  British pedophile sentenced to 85 years in US ...   \n",
       "1988  Philippines president Rodrigo Duterte urges pe...   \n",
       "\n",
       "                                                  Top22  \\\n",
       "1987  US permitted 1,200 offshore fracks in Gulf of ...   \n",
       "1988  Spain arrests three Pakistanis accused of prom...   \n",
       "\n",
       "                                                  Top23  \\\n",
       "1987  We will be swimming in ridicule - French beach...   \n",
       "1988  Venezuela, where anger over food shortages is ...   \n",
       "\n",
       "                                                  Top24  \\\n",
       "1987  UEFA says no minutes of silence for Istanbul v...   \n",
       "1988  A Hindu temple worker has been killed by three...   \n",
       "\n",
       "                                                  Top25  \n",
       "1987  Law Enforcement Sources: Gun Used in Paris Ter...  \n",
       "1988  Ozone layer hole seems to be healing - US &amp...  \n",
       "\n",
       "[2 rows x 27 columns]"
      ]
     },
     "execution_count": 5,
     "metadata": {},
     "output_type": "execute_result"
    }
   ],
   "source": [
    "data.tail(2)"
   ]
  },
  {
   "cell_type": "code",
   "execution_count": 6,
   "metadata": {},
   "outputs": [
    {
     "data": {
      "text/plain": [
       "1    1065\n",
       "0     924\n",
       "Name: Label, dtype: int64"
      ]
     },
     "execution_count": 6,
     "metadata": {},
     "output_type": "execute_result"
    }
   ],
   "source": [
    "#Evaluating number of positive and negative days and sniffing for null values\n",
    "data['Label'].value_counts()"
   ]
  },
  {
   "cell_type": "code",
   "execution_count": 7,
   "metadata": {},
   "outputs": [
    {
     "data": {
      "text/plain": [
       "(1989, 27)"
      ]
     },
     "execution_count": 7,
     "metadata": {},
     "output_type": "execute_result"
    }
   ],
   "source": [
    "#describing the data\n",
    "data.shape"
   ]
  },
  {
   "cell_type": "code",
   "execution_count": 8,
   "metadata": {},
   "outputs": [
    {
     "name": "stdout",
     "output_type": "stream",
     "text": [
      "Old data frame length: 1989 \n",
      "New data frame length: 1986 \n",
      "Number of rows with at least 1 NA value:  3\n"
     ]
    }
   ],
   "source": [
    "#Data cleaning\n",
    "#data.isnull().sum()\n",
    "# making new data frame with dropped NA values \n",
    "new_data = data.dropna(axis = 0, how ='any') \n",
    "  \n",
    "# comparing sizes of data frames \n",
    "print(\"Old data frame length:\", len(data), \"\\nNew data frame length:\",  \n",
    "       len(new_data), \"\\nNumber of rows with at least 1 NA value: \", \n",
    "       (len(data)-len(new_data))) "
   ]
  },
  {
   "cell_type": "code",
   "execution_count": 9,
   "metadata": {},
   "outputs": [],
   "source": [
    "#Splitting data set into test and train sets\n",
    "#train = data[data['Date'] < '2012-07-20']\n",
    "#test = data[data['Date'] > '2012-07-20']"
   ]
  },
  {
   "cell_type": "code",
   "execution_count": 10,
   "metadata": {},
   "outputs": [],
   "source": [
    "#Splitting data set into test and train sets\n",
    "train = new_data[new_data['Date'] < '2015-01-01']\n",
    "#test = new_data[new_data['Date'] > '2015-01-01']\n",
    "test = new_data[new_data['Date'] > '2014-12-31']"
   ]
  },
  {
   "cell_type": "code",
   "execution_count": 11,
   "metadata": {},
   "outputs": [
    {
     "name": "stdout",
     "output_type": "stream",
     "text": [
      "(378, 400)\n",
      "(1608, 400)\n"
     ]
    }
   ],
   "source": [
    "#Vectorizing text using Term Frequency-Inverse Document Frequency\n",
    "batch_size = 32\n",
    "nb_classes = 2\n",
    "advancedvectorizer = TfidfVectorizer( min_df=0.04, max_df=0.3, max_features = 200000, ngram_range = (2, 2))\n",
    "trainheadlines = []\n",
    "for row in range(0,len(train.index)):\n",
    "    trainheadlines.append(' '.join(str(x) for x in train.iloc[row,2:27]))\n",
    "advancedtrain = advancedvectorizer.fit_transform(trainheadlines)\n",
    "testheadlines = []\n",
    "for row in range(0,len(test.index)):\n",
    "    testheadlines.append(' '.join(str(x) for x in test.iloc[row,2:27]))\n",
    "advancedtest = advancedvectorizer.transform(testheadlines)\n",
    "print(advancedtest.shape)\n",
    "print(advancedtrain.shape)\n",
    "#print(advancedtrain)"
   ]
  },
  {
   "cell_type": "code",
   "execution_count": 12,
   "metadata": {},
   "outputs": [
    {
     "name": "stderr",
     "output_type": "stream",
     "text": [
      "WARNING: Logging before flag parsing goes to stderr.\n",
      "W0924 14:10:17.222471 140736230503296 deprecation_wrapper.py:119] From /anaconda3/lib/python3.6/site-packages/keras/backend/tensorflow_backend.py:66: The name tf.get_default_graph is deprecated. Please use tf.compat.v1.get_default_graph instead.\n",
      "\n",
      "W0924 14:10:17.248749 140736230503296 deprecation_wrapper.py:119] From /anaconda3/lib/python3.6/site-packages/keras/backend/tensorflow_backend.py:541: The name tf.placeholder is deprecated. Please use tf.compat.v1.placeholder instead.\n",
      "\n",
      "W0924 14:10:17.252400 140736230503296 deprecation_wrapper.py:119] From /anaconda3/lib/python3.6/site-packages/keras/backend/tensorflow_backend.py:4432: The name tf.random_uniform is deprecated. Please use tf.random.uniform instead.\n",
      "\n",
      "W0924 14:10:17.270783 140736230503296 deprecation_wrapper.py:119] From /anaconda3/lib/python3.6/site-packages/keras/backend/tensorflow_backend.py:148: The name tf.placeholder_with_default is deprecated. Please use tf.compat.v1.placeholder_with_default instead.\n",
      "\n",
      "W0924 14:10:17.281188 140736230503296 deprecation.py:506] From /anaconda3/lib/python3.6/site-packages/keras/backend/tensorflow_backend.py:3733: calling dropout (from tensorflow.python.ops.nn_ops) with keep_prob is deprecated and will be removed in a future version.\n",
      "Instructions for updating:\n",
      "Please use `rate` instead of `keep_prob`. Rate should be set to `rate = 1 - keep_prob`.\n",
      "W0924 14:10:17.378617 140736230503296 deprecation_wrapper.py:119] From /anaconda3/lib/python3.6/site-packages/keras/optimizers.py:793: The name tf.train.Optimizer is deprecated. Please use tf.compat.v1.train.Optimizer instead.\n",
      "\n",
      "W0924 14:10:17.407844 140736230503296 deprecation_wrapper.py:119] From /anaconda3/lib/python3.6/site-packages/keras/backend/tensorflow_backend.py:3576: The name tf.log is deprecated. Please use tf.math.log instead.\n",
      "\n",
      "/anaconda3/lib/python3.6/site-packages/ipykernel_launcher.py:40: UserWarning: The `nb_epoch` argument in `fit` has been renamed `epochs`.\n",
      "W0924 14:10:17.559721 140736230503296 deprecation.py:323] From /anaconda3/lib/python3.6/site-packages/tensorflow/python/ops/math_grad.py:1250: add_dispatch_support.<locals>.wrapper (from tensorflow.python.ops.array_ops) is deprecated and will be removed in a future version.\n",
      "Instructions for updating:\n",
      "Use tf.where in 2.0, which has the same broadcast rule as np.where\n"
     ]
    },
    {
     "name": "stdout",
     "output_type": "stream",
     "text": [
      "Training...\n",
      "Train on 1366 samples, validate on 242 samples\n",
      "Epoch 1/2\n",
      "1366/1366 [==============================] - 1s 397us/step - loss: 0.6952 - val_loss: 0.6853\n",
      "Epoch 2/2\n",
      "1366/1366 [==============================] - 0s 190us/step - loss: 0.6789 - val_loss: 0.6872\n",
      "Generating test predictions...\n"
     ]
    }
   ],
   "source": [
    "X_train = advancedtrain.toarray()\n",
    "X_test = advancedtest.toarray()\n",
    "\n",
    "#print('X_train shape:', X_train.shape)\n",
    "#print('X_test shape:', X_test.shape)\n",
    "y_train = np.array(train[\"Label\"])\n",
    "y_test = np.array(test[\"Label\"])\n",
    "\n",
    "Y_train = np_utils.to_categorical(y_train, nb_classes)\n",
    "Y_test = np_utils.to_categorical(y_test, nb_classes)\n",
    "\n",
    "\n",
    "# pre-processing: divide by max and substract mean\n",
    "#scale = np.max(X_train)\n",
    "#X_train /= scale\n",
    "#X_test /= scale\n",
    "\n",
    "#mean = np.mean(X_train)\n",
    "#X_train -= mean\n",
    "#X_test -= mean\n",
    "\n",
    "#Defining input dimension\n",
    "input_dim = X_train.shape[1]\n",
    "\n",
    "\n",
    "model = Sequential()\n",
    "model.add(Dense(256, input_dim=input_dim))\n",
    "model.add(Activation('relu'))\n",
    "model.add(Dropout(0.4))\n",
    "model.add(Dense(128))\n",
    "model.add(Activation('relu'))\n",
    "model.add(Dropout(0.4))\n",
    "model.add(Dense(nb_classes))\n",
    "model.add(Activation('softmax'))\n",
    "\n",
    "# we'll use categorical xent for the loss, and RMSprop as the optimizer\n",
    "model.compile(loss='categorical_crossentropy', optimizer='rmsprop')\n",
    "\n",
    "print(\"Training...\")\n",
    "model.fit(X_train, Y_train, nb_epoch=2, batch_size=16, validation_split=0.15)\n",
    "\n",
    "print(\"Generating test predictions...\")\n",
    "preds14 = model.predict_classes(X_test, verbose=0)\n",
    "acc14 = accuracy_score(test[\"Label\"], preds14)\n"
   ]
  },
  {
   "cell_type": "code",
   "execution_count": 13,
   "metadata": {},
   "outputs": [
    {
     "data": {
      "text/plain": [
       "0.5529100529100529"
      ]
     },
     "execution_count": 13,
     "metadata": {},
     "output_type": "execute_result"
    }
   ],
   "source": [
    "acc14"
   ]
  },
  {
   "cell_type": "code",
   "execution_count": 14,
   "metadata": {},
   "outputs": [
    {
     "name": "stdout",
     "output_type": "stream",
     "text": [
      "Train on 1366 samples, validate on 242 samples\n",
      "Epoch 1/20\n",
      "1366/1366 [==============================] - 1s 493us/step - loss: 0.6924 - acc: 0.5264 - val_loss: 0.6851 - val_acc: 0.5579\n",
      "Epoch 2/20\n",
      "1366/1366 [==============================] - 0s 209us/step - loss: 0.6774 - acc: 0.5747 - val_loss: 0.6824 - val_acc: 0.5331\n",
      "Epoch 3/20\n",
      "1366/1366 [==============================] - 0s 220us/step - loss: 0.5969 - acc: 0.6867 - val_loss: 0.7242 - val_acc: 0.5537\n",
      "Epoch 4/20\n",
      "1366/1366 [==============================] - 0s 218us/step - loss: 0.4036 - acc: 0.8397 - val_loss: 0.9247 - val_acc: 0.5331\n",
      "Epoch 5/20\n",
      "1366/1366 [==============================] - 0s 214us/step - loss: 0.1542 - acc: 0.9583 - val_loss: 1.3199 - val_acc: 0.5372\n",
      "Epoch 6/20\n",
      "1366/1366 [==============================] - 0s 222us/step - loss: 0.0375 - acc: 0.9956 - val_loss: 1.8427 - val_acc: 0.5124\n",
      "Epoch 7/20\n",
      "1366/1366 [==============================] - 0s 213us/step - loss: 0.0062 - acc: 1.0000 - val_loss: 2.1067 - val_acc: 0.5248\n",
      "Epoch 8/20\n",
      "1366/1366 [==============================] - 0s 214us/step - loss: 0.0025 - acc: 1.0000 - val_loss: 2.2927 - val_acc: 0.5165\n",
      "Epoch 9/20\n",
      "1366/1366 [==============================] - 0s 210us/step - loss: 0.0015 - acc: 1.0000 - val_loss: 2.4277 - val_acc: 0.5289\n",
      "Epoch 10/20\n",
      "1366/1366 [==============================] - 0s 241us/step - loss: 0.0010 - acc: 1.0000 - val_loss: 2.5377 - val_acc: 0.5207\n",
      "Epoch 11/20\n",
      "1366/1366 [==============================] - 0s 218us/step - loss: 7.4219e-04 - acc: 1.0000 - val_loss: 2.6314 - val_acc: 0.5248\n",
      "Epoch 12/20\n",
      "1366/1366 [==============================] - 0s 210us/step - loss: 5.6950e-04 - acc: 1.0000 - val_loss: 2.7130 - val_acc: 0.5289\n",
      "Epoch 13/20\n",
      "1366/1366 [==============================] - 0s 225us/step - loss: 4.5110e-04 - acc: 1.0000 - val_loss: 2.7874 - val_acc: 0.5248\n",
      "Epoch 14/20\n",
      "1366/1366 [==============================] - 0s 209us/step - loss: 3.6452e-04 - acc: 1.0000 - val_loss: 2.8533 - val_acc: 0.5207\n",
      "Epoch 15/20\n",
      "1366/1366 [==============================] - 0s 210us/step - loss: 2.9969e-04 - acc: 1.0000 - val_loss: 2.9159 - val_acc: 0.5207\n",
      "Epoch 16/20\n",
      "1366/1366 [==============================] - 0s 221us/step - loss: 2.5022e-04 - acc: 1.0000 - val_loss: 2.9705 - val_acc: 0.5248\n",
      "Epoch 17/20\n",
      "1366/1366 [==============================] - 0s 198us/step - loss: 2.1133e-04 - acc: 1.0000 - val_loss: 3.0220 - val_acc: 0.5248\n",
      "Epoch 18/20\n",
      "1366/1366 [==============================] - 0s 216us/step - loss: 1.8011e-04 - acc: 1.0000 - val_loss: 3.0735 - val_acc: 0.5207\n",
      "Epoch 19/20\n",
      "1366/1366 [==============================] - 0s 201us/step - loss: 1.5497e-04 - acc: 1.0000 - val_loss: 3.1199 - val_acc: 0.5248\n",
      "Epoch 20/20\n",
      "1366/1366 [==============================] - 0s 228us/step - loss: 1.3396e-04 - acc: 1.0000 - val_loss: 3.1631 - val_acc: 0.5289\n",
      "1608/1608 [==============================] - 0s 34us/step\n",
      "Accuracy: 92.91\n"
     ]
    }
   ],
   "source": [
    "#Trying another model to improve accuracy, changing loss function and optimizer\n",
    "from numpy import loadtxt\n",
    "from keras.models import Sequential\n",
    "from keras.layers import Dense\n",
    "# load the dataset\n",
    "dataset = pd.read_csv('./stocknews/Combined_News_DJIA.csv')\n",
    "# split into input (X) and output (y) variables\n",
    "# define the keras model\n",
    "model1 = Sequential()\n",
    "model1.add(Dense(64, input_dim=400, activation='relu'))\n",
    "model.add(Dropout(0.5))\n",
    "model1.add(Dense(48, activation='relu'))\n",
    "model.add(Dropout(0.5))\n",
    "model1.add(Dense(32, activation='relu'))\n",
    "model.add(Dropout(0.5))\n",
    "model1.add(Dense(2, activation='softmax'))\n",
    "# compile the keras model\n",
    "model1.compile(loss='binary_crossentropy', optimizer='adam', metrics=['accuracy'])\n",
    "# fit the keras model on the dataset\n",
    "model1.fit(X_train, Y_train, epochs=20, batch_size=10, validation_split= 0.15)\n",
    "#model.fit(X_train, Y_train, nb_epoch=2, batch_size=16, validation_split=0.15)\n",
    "# evaluate the keras model\n",
    "_, accuracy = model1.evaluate(X_train, Y_train)\n",
    "print('Accuracy: %.2f' % (accuracy*100))"
   ]
  },
  {
   "cell_type": "code",
   "execution_count": 15,
   "metadata": {},
   "outputs": [
    {
     "name": "stdout",
     "output_type": "stream",
     "text": [
      "378/378 [==============================] - 0s 76us/step\n"
     ]
    },
    {
     "data": {
      "text/plain": [
       "[3.0328142844810686, 0.5582010578856897]"
      ]
     },
     "execution_count": 15,
     "metadata": {},
     "output_type": "execute_result"
    }
   ],
   "source": [
    "#Evaluating the performance of model 1\n",
    "model1.evaluate(X_test,Y_test)"
   ]
  },
  {
   "cell_type": "code",
   "execution_count": 16,
   "metadata": {},
   "outputs": [
    {
     "data": {
      "text/plain": [
       "array([[ 76,  57],\n",
       "       [110, 135]])"
      ]
     },
     "execution_count": 16,
     "metadata": {},
     "output_type": "execute_result"
    }
   ],
   "source": [
    "# Predicting the Test set results\n",
    "y_pred = model1.predict(X_test)\n",
    "y_pred = np.argmax(y_pred, axis=1)\n",
    "from sklearn.metrics import confusion_matrix\n",
    "cm = confusion_matrix(y_pred, y_test)\n",
    "cm\n"
   ]
  },
  {
   "cell_type": "code",
   "execution_count": 17,
   "metadata": {},
   "outputs": [],
   "source": [
    "#CASES\n",
    "#Try Alternates. Use L2 regularization and optimize lambda penalty function. Grid search\n",
    "#Try Alternates. Use L1 or the combined L1L2 methods instead of L2 regularization.\n",
    "#Regularize Output Layer. - Regularize the output layer of the model and compare the results. (Dropout)\n",
    "# Regularize Bias. Regularize the bias weight and compare the results."
   ]
  },
  {
   "cell_type": "code",
   "execution_count": 18,
   "metadata": {},
   "outputs": [
    {
     "name": "stdout",
     "output_type": "stream",
     "text": [
      "Train on 1366 samples, validate on 242 samples\n",
      "Epoch 1/20\n",
      "1366/1366 [==============================] - 1s 747us/step - loss: 1.1991 - acc: 0.5359 - val_loss: 0.9077 - val_acc: 0.5579\n",
      "Epoch 2/20\n",
      "1366/1366 [==============================] - 0s 236us/step - loss: 0.8038 - acc: 0.5366 - val_loss: 0.7334 - val_acc: 0.5579\n",
      "Epoch 3/20\n",
      "1366/1366 [==============================] - 0s 229us/step - loss: 0.7127 - acc: 0.5373 - val_loss: 0.6970 - val_acc: 0.5579\n",
      "Epoch 4/20\n",
      "1366/1366 [==============================] - 0s 237us/step - loss: 0.6960 - acc: 0.5381 - val_loss: 0.6902 - val_acc: 0.5579\n",
      "Epoch 5/20\n",
      "1366/1366 [==============================] - 0s 227us/step - loss: 0.6925 - acc: 0.5381 - val_loss: 0.6882 - val_acc: 0.5579\n",
      "Epoch 6/20\n",
      "1366/1366 [==============================] - 0s 236us/step - loss: 0.6904 - acc: 0.5381 - val_loss: 0.6876 - val_acc: 0.5579\n",
      "Epoch 7/20\n",
      "1366/1366 [==============================] - 0s 237us/step - loss: 0.6912 - acc: 0.5381 - val_loss: 0.6877 - val_acc: 0.5579\n",
      "Epoch 8/20\n",
      "1366/1366 [==============================] - 0s 234us/step - loss: 0.6907 - acc: 0.5381 - val_loss: 0.6876 - val_acc: 0.5579\n",
      "Epoch 9/20\n",
      "1366/1366 [==============================] - 0s 230us/step - loss: 0.6909 - acc: 0.5381 - val_loss: 0.6877 - val_acc: 0.5579\n",
      "Epoch 10/20\n",
      "1366/1366 [==============================] - 0s 239us/step - loss: 0.6910 - acc: 0.5381 - val_loss: 0.6878 - val_acc: 0.5579\n",
      "Epoch 11/20\n",
      "1366/1366 [==============================] - 0s 233us/step - loss: 0.6906 - acc: 0.5381 - val_loss: 0.6876 - val_acc: 0.5579\n",
      "Epoch 12/20\n",
      "1366/1366 [==============================] - 0s 240us/step - loss: 0.6906 - acc: 0.5381 - val_loss: 0.6875 - val_acc: 0.5579\n",
      "Epoch 13/20\n",
      "1366/1366 [==============================] - 0s 241us/step - loss: 0.6907 - acc: 0.5381 - val_loss: 0.6876 - val_acc: 0.5579\n",
      "Epoch 14/20\n",
      "1366/1366 [==============================] - 0s 228us/step - loss: 0.6908 - acc: 0.5381 - val_loss: 0.6875 - val_acc: 0.5579\n",
      "Epoch 15/20\n",
      "1366/1366 [==============================] - 0s 234us/step - loss: 0.6905 - acc: 0.5381 - val_loss: 0.6872 - val_acc: 0.5579\n",
      "Epoch 16/20\n",
      "1366/1366 [==============================] - 0s 234us/step - loss: 0.6903 - acc: 0.5381 - val_loss: 0.6873 - val_acc: 0.5579\n",
      "Epoch 17/20\n",
      "1366/1366 [==============================] - 0s 232us/step - loss: 0.6903 - acc: 0.5381 - val_loss: 0.6871 - val_acc: 0.5579\n",
      "Epoch 18/20\n",
      "1366/1366 [==============================] - 0s 231us/step - loss: 0.6904 - acc: 0.5381 - val_loss: 0.6871 - val_acc: 0.5579\n",
      "Epoch 19/20\n",
      "1366/1366 [==============================] - 0s 224us/step - loss: 0.6905 - acc: 0.5381 - val_loss: 0.6874 - val_acc: 0.5579\n",
      "Epoch 20/20\n",
      "1366/1366 [==============================] - 0s 235us/step - loss: 0.6905 - acc: 0.5381 - val_loss: 0.6874 - val_acc: 0.5579\n",
      "1608/1608 [==============================] - 0s 32us/step\n",
      "Accuracy: 54.10\n"
     ]
    },
    {
     "data": {
      "image/png": "[encoded data removed]",
      "text/plain": [
       "<Figure size 432x288 with 1 Axes>"
      ]
     },
     "metadata": {
      "needs_background": "light"
     },
     "output_type": "display_data"
    }
   ],
   "source": [
    "# Case 1 and 3 combined: L2 regularization techniques with droupouts\n",
    "#Trying another model to improve accuracy\n",
    "from keras import regularizers\n",
    "from matplotlib import pyplot\n",
    "# load the dataset\n",
    "dataset = pd.read_csv('./stocknews/Combined_News_DJIA.csv')\n",
    "# split into input (X) and output (y) variables\n",
    "# define the keras model\n",
    "model2 = Sequential()\n",
    "model2.add(Dense(64, input_dim=400, activation='relu'))\n",
    "model2.add(Dropout(0.5))\n",
    "model2.add(Dense(48, activation='relu', kernel_regularizer=regularizers.l2(0.01) ))\n",
    "model2.add(Dropout(0.5))\n",
    "model2.add(Dense(32, activation='relu', kernel_regularizer=regularizers.l2(0.01)))\n",
    "model2.add(Dropout(0.5))\n",
    "model2.add(Dense(2, activation='softmax'))\n",
    "# compile the keras model\n",
    "model2.compile(loss='binary_crossentropy', optimizer='adam', metrics=['accuracy'])\n",
    "# fit the keras model on the dataset\n",
    "history=model2.fit(X_train, Y_train, epochs=20, batch_size=10, validation_split= 0.15)\n",
    "#model.fit(X_train, Y_train, nb_epoch=2, batch_size=16, validation_split=0.15)\n",
    "# evaluate the keras model\n",
    "_, accuracy = model2.evaluate(X_train, Y_train)\n",
    "print('Accuracy: %.2f' % (accuracy*100))\n",
    "\n",
    "#plotting accuracy\n",
    "pyplot.plot(history.history['acc'], label='train')\n",
    "pyplot.plot(history.history['val_acc'], label='test')\n",
    "pyplot.legend()\n",
    "pyplot.show()"
   ]
  },
  {
   "cell_type": "code",
   "execution_count": 19,
   "metadata": {},
   "outputs": [
    {
     "name": "stdout",
     "output_type": "stream",
     "text": [
      "378/378 [==============================] - 0s 43us/step\n"
     ]
    },
    {
     "data": {
      "text/plain": [
       "array([[  0,   0],\n",
       "       [186, 192]])"
      ]
     },
     "execution_count": 19,
     "metadata": {},
     "output_type": "execute_result"
    }
   ],
   "source": [
    "#Evaluating the performance of the second model\n",
    "model2.evaluate(X_test,Y_test)\n",
    "y_pred2 = model2.predict(X_test)\n",
    "y_pred2 = np.argmax(y_pred2, axis=1)\n",
    "from sklearn.metrics import confusion_matrix\n",
    "cm2 = confusion_matrix(y_pred2, y_test)\n",
    "cm2"
   ]
  },
  {
   "cell_type": "code",
   "execution_count": 20,
   "metadata": {},
   "outputs": [
    {
     "name": "stdout",
     "output_type": "stream",
     "text": [
      "Train on 1366 samples, validate on 242 samples\n",
      "Epoch 1/20\n",
      "1366/1366 [==============================] - 1s 721us/step - loss: 5.0287 - acc: 0.5315 - val_loss: 2.1114 - val_acc: 0.5579\n",
      "Epoch 2/20\n",
      "1366/1366 [==============================] - 0s 231us/step - loss: 1.2862 - acc: 0.5381 - val_loss: 0.8435 - val_acc: 0.5579\n",
      "Epoch 3/20\n",
      "1366/1366 [==============================] - 0s 255us/step - loss: 0.7489 - acc: 0.5381 - val_loss: 0.6992 - val_acc: 0.5579\n",
      "Epoch 4/20\n",
      "1366/1366 [==============================] - 0s 227us/step - loss: 0.6948 - acc: 0.5381 - val_loss: 0.6883 - val_acc: 0.5579\n",
      "Epoch 5/20\n",
      "1366/1366 [==============================] - 0s 230us/step - loss: 0.6908 - acc: 0.5381 - val_loss: 0.6872 - val_acc: 0.5579\n",
      "Epoch 6/20\n",
      "1366/1366 [==============================] - 0s 247us/step - loss: 0.6905 - acc: 0.5381 - val_loss: 0.6870 - val_acc: 0.5579\n",
      "Epoch 7/20\n",
      "1366/1366 [==============================] - 0s 236us/step - loss: 0.6906 - acc: 0.5381 - val_loss: 0.6874 - val_acc: 0.5579\n",
      "Epoch 8/20\n",
      "1366/1366 [==============================] - 0s 226us/step - loss: 0.6904 - acc: 0.5381 - val_loss: 0.6872 - val_acc: 0.5579\n",
      "Epoch 9/20\n",
      "1366/1366 [==============================] - 0s 250us/step - loss: 0.6910 - acc: 0.5381 - val_loss: 0.6875 - val_acc: 0.5579\n",
      "Epoch 10/20\n",
      "1366/1366 [==============================] - 0s 227us/step - loss: 0.6902 - acc: 0.5381 - val_loss: 0.6872 - val_acc: 0.5579\n",
      "Epoch 11/20\n",
      "1366/1366 [==============================] - 0s 233us/step - loss: 0.6906 - acc: 0.5381 - val_loss: 0.6872 - val_acc: 0.5579\n",
      "Epoch 12/20\n",
      "1366/1366 [==============================] - 0s 238us/step - loss: 0.6906 - acc: 0.5381 - val_loss: 0.6874 - val_acc: 0.5579\n",
      "Epoch 13/20\n",
      "1366/1366 [==============================] - 0s 225us/step - loss: 0.6904 - acc: 0.5381 - val_loss: 0.6871 - val_acc: 0.5579\n",
      "Epoch 14/20\n",
      "1366/1366 [==============================] - 0s 222us/step - loss: 0.6909 - acc: 0.5381 - val_loss: 0.6874 - val_acc: 0.5579\n",
      "Epoch 15/20\n",
      "1366/1366 [==============================] - 0s 207us/step - loss: 0.6907 - acc: 0.5381 - val_loss: 0.6875 - val_acc: 0.5579\n",
      "Epoch 16/20\n",
      "1366/1366 [==============================] - 0s 229us/step - loss: 0.6902 - acc: 0.5381 - val_loss: 0.6872 - val_acc: 0.5579\n",
      "Epoch 17/20\n",
      "1366/1366 [==============================] - 0s 227us/step - loss: 0.6898 - acc: 0.5381 - val_loss: 0.6872 - val_acc: 0.5579\n",
      "Epoch 18/20\n",
      "1366/1366 [==============================] - 0s 228us/step - loss: 0.6901 - acc: 0.5381 - val_loss: 0.6873 - val_acc: 0.5579\n",
      "Epoch 19/20\n",
      "1366/1366 [==============================] - 0s 233us/step - loss: 0.6906 - acc: 0.5381 - val_loss: 0.6871 - val_acc: 0.5579\n",
      "Epoch 20/20\n",
      "1366/1366 [==============================] - 0s 225us/step - loss: 0.6907 - acc: 0.5381 - val_loss: 0.6873 - val_acc: 0.5579\n",
      "1608/1608 [==============================] - 0s 26us/step\n",
      "378/378 [==============================] - 0s 36us/step\n",
      "Accuracy: 54.10\n",
      "Train on 1366 samples, validate on 242 samples\n",
      "Epoch 1/20\n",
      "1366/1366 [==============================] - 1s 793us/step - loss: 1.2109 - acc: 0.5102 - val_loss: 0.9217 - val_acc: 0.5579\n",
      "Epoch 2/20\n",
      "1366/1366 [==============================] - 0s 233us/step - loss: 0.8109 - acc: 0.5381 - val_loss: 0.7366 - val_acc: 0.5579\n",
      "Epoch 3/20\n",
      "1366/1366 [==============================] - 0s 254us/step - loss: 0.7156 - acc: 0.5381 - val_loss: 0.6987 - val_acc: 0.5579\n",
      "Epoch 4/20\n",
      "1366/1366 [==============================] - 0s 241us/step - loss: 0.6959 - acc: 0.5381 - val_loss: 0.6897 - val_acc: 0.5579\n",
      "Epoch 5/20\n",
      "1366/1366 [==============================] - 0s 244us/step - loss: 0.6923 - acc: 0.5381 - val_loss: 0.6884 - val_acc: 0.5579\n",
      "Epoch 6/20\n",
      "1366/1366 [==============================] - 0s 242us/step - loss: 0.6919 - acc: 0.5381 - val_loss: 0.6880 - val_acc: 0.5579\n",
      "Epoch 7/20\n",
      "1366/1366 [==============================] - 0s 243us/step - loss: 0.6909 - acc: 0.5381 - val_loss: 0.6879 - val_acc: 0.5579\n",
      "Epoch 8/20\n",
      "1366/1366 [==============================] - 0s 251us/step - loss: 0.6911 - acc: 0.5381 - val_loss: 0.6875 - val_acc: 0.5579\n",
      "Epoch 9/20\n",
      "1366/1366 [==============================] - 0s 253us/step - loss: 0.6910 - acc: 0.5381 - val_loss: 0.6880 - val_acc: 0.5579\n",
      "Epoch 10/20\n",
      "1366/1366 [==============================] - 0s 238us/step - loss: 0.6905 - acc: 0.5381 - val_loss: 0.6875 - val_acc: 0.5579\n",
      "Epoch 11/20\n",
      "1366/1366 [==============================] - 0s 236us/step - loss: 0.6903 - acc: 0.5381 - val_loss: 0.6876 - val_acc: 0.5579\n",
      "Epoch 12/20\n",
      "1366/1366 [==============================] - 0s 237us/step - loss: 0.6910 - acc: 0.5381 - val_loss: 0.6874 - val_acc: 0.5579\n",
      "Epoch 13/20\n",
      "1366/1366 [==============================] - 0s 239us/step - loss: 0.6902 - acc: 0.5381 - val_loss: 0.6873 - val_acc: 0.5579\n",
      "Epoch 14/20\n",
      "1366/1366 [==============================] - 0s 240us/step - loss: 0.6908 - acc: 0.5381 - val_loss: 0.6876 - val_acc: 0.5579\n",
      "Epoch 15/20\n",
      "1366/1366 [==============================] - 0s 248us/step - loss: 0.6905 - acc: 0.5381 - val_loss: 0.6874 - val_acc: 0.5579\n",
      "Epoch 16/20\n",
      "1366/1366 [==============================] - 0s 239us/step - loss: 0.6905 - acc: 0.5381 - val_loss: 0.6876 - val_acc: 0.5579\n",
      "Epoch 17/20\n",
      "1366/1366 [==============================] - 0s 250us/step - loss: 0.6907 - acc: 0.5381 - val_loss: 0.6875 - val_acc: 0.5579\n",
      "Epoch 18/20\n",
      "1366/1366 [==============================] - 0s 253us/step - loss: 0.6914 - acc: 0.5381 - val_loss: 0.6874 - val_acc: 0.5579\n",
      "Epoch 19/20\n",
      "1366/1366 [==============================] - 0s 237us/step - loss: 0.6908 - acc: 0.5381 - val_loss: 0.6875 - val_acc: 0.5579\n",
      "Epoch 20/20\n",
      "1366/1366 [==============================] - 0s 238us/step - loss: 0.6905 - acc: 0.5381 - val_loss: 0.6872 - val_acc: 0.5579\n",
      "1608/1608 [==============================] - 0s 28us/step\n",
      "378/378 [==============================] - 0s 41us/step\n",
      "Accuracy: 54.10\n",
      "Train on 1366 samples, validate on 242 samples\n",
      "Epoch 1/20\n",
      "1366/1366 [==============================] - 1s 861us/step - loss: 0.7727 - acc: 0.5139 - val_loss: 0.7551 - val_acc: 0.5579\n",
      "Epoch 2/20\n",
      "1366/1366 [==============================] - 0s 254us/step - loss: 0.7476 - acc: 0.5417 - val_loss: 0.7420 - val_acc: 0.5702\n",
      "Epoch 3/20\n",
      "1366/1366 [==============================] - 0s 252us/step - loss: 0.7374 - acc: 0.5490 - val_loss: 0.7277 - val_acc: 0.5579\n",
      "Epoch 4/20\n",
      "1366/1366 [==============================] - 0s 249us/step - loss: 0.7268 - acc: 0.5439 - val_loss: 0.7246 - val_acc: 0.5826\n",
      "Epoch 5/20\n",
      "1366/1366 [==============================] - 0s 257us/step - loss: 0.7110 - acc: 0.5608 - val_loss: 0.7161 - val_acc: 0.5785\n",
      "Epoch 6/20\n",
      "1366/1366 [==============================] - 0s 243us/step - loss: 0.6860 - acc: 0.6083 - val_loss: 0.7238 - val_acc: 0.5165\n",
      "Epoch 7/20\n",
      "1366/1366 [==============================] - 1s 418us/step - loss: 0.6514 - acc: 0.6823 - val_loss: 0.7481 - val_acc: 0.5165\n",
      "Epoch 8/20\n",
      "1366/1366 [==============================] - 0s 353us/step - loss: 0.5960 - acc: 0.7204 - val_loss: 0.7993 - val_acc: 0.5537\n",
      "Epoch 9/20\n",
      "1366/1366 [==============================] - 0s 354us/step - loss: 0.5475 - acc: 0.7621 - val_loss: 0.8450 - val_acc: 0.5620\n",
      "Epoch 10/20\n",
      "1366/1366 [==============================] - 1s 486us/step - loss: 0.4779 - acc: 0.8009 - val_loss: 0.9669 - val_acc: 0.5537\n",
      "Epoch 11/20\n",
      "1366/1366 [==============================] - 1s 436us/step - loss: 0.4038 - acc: 0.8580 - val_loss: 1.0180 - val_acc: 0.5620\n",
      "Epoch 12/20\n",
      "1366/1366 [==============================] - 0s 330us/step - loss: 0.3663 - acc: 0.8704 - val_loss: 1.1141 - val_acc: 0.5702\n",
      "Epoch 13/20\n",
      "1366/1366 [==============================] - 1s 384us/step - loss: 0.3180 - acc: 0.8982 - val_loss: 1.2633 - val_acc: 0.5702\n",
      "Epoch 14/20\n",
      "1366/1366 [==============================] - 0s 334us/step - loss: 0.2775 - acc: 0.9114 - val_loss: 1.3697 - val_acc: 0.5537\n",
      "Epoch 15/20\n",
      "1366/1366 [==============================] - 1s 512us/step - loss: 0.2359 - acc: 0.9341 - val_loss: 1.5915 - val_acc: 0.5620\n",
      "Epoch 16/20\n",
      "1366/1366 [==============================] - 1s 389us/step - loss: 0.2010 - acc: 0.9473 - val_loss: 1.7311 - val_acc: 0.5413\n",
      "Epoch 17/20\n",
      "1366/1366 [==============================] - 1s 473us/step - loss: 0.1823 - acc: 0.9524 - val_loss: 1.7709 - val_acc: 0.5579\n",
      "Epoch 18/20\n"
     ]
    },
    {
     "name": "stdout",
     "output_type": "stream",
     "text": [
      "1366/1366 [==============================] - 0s 320us/step - loss: 0.1770 - acc: 0.9517 - val_loss: 1.8236 - val_acc: 0.5496\n",
      "Epoch 19/20\n",
      "1366/1366 [==============================] - 0s 315us/step - loss: 0.1743 - acc: 0.9561 - val_loss: 2.0751 - val_acc: 0.5744\n",
      "Epoch 20/20\n",
      "1366/1366 [==============================] - 0s 283us/step - loss: 0.1636 - acc: 0.9619 - val_loss: 1.8975 - val_acc: 0.5496\n",
      "1608/1608 [==============================] - 0s 62us/step\n",
      "378/378 [==============================] - 0s 50us/step\n",
      "Accuracy: 54.10\n",
      "Train on 1366 samples, validate on 242 samples\n",
      "Epoch 1/20\n",
      "1366/1366 [==============================] - 2s 1ms/step - loss: 0.7025 - acc: 0.4985 - val_loss: 0.6954 - val_acc: 0.5579\n",
      "Epoch 2/20\n",
      "1366/1366 [==============================] - 1s 468us/step - loss: 0.6981 - acc: 0.5381 - val_loss: 0.6957 - val_acc: 0.5579\n",
      "Epoch 3/20\n",
      "1366/1366 [==============================] - 1s 471us/step - loss: 0.6995 - acc: 0.5322 - val_loss: 0.6948 - val_acc: 0.5579\n",
      "Epoch 4/20\n",
      "1366/1366 [==============================] - 0s 341us/step - loss: 0.6964 - acc: 0.5381 - val_loss: 0.6940 - val_acc: 0.5620\n",
      "Epoch 5/20\n",
      "1366/1366 [==============================] - 0s 239us/step - loss: 0.6842 - acc: 0.5600 - val_loss: 0.6915 - val_acc: 0.5537\n",
      "Epoch 6/20\n",
      "1366/1366 [==============================] - 0s 234us/step - loss: 0.6760 - acc: 0.5937 - val_loss: 0.6914 - val_acc: 0.5537\n",
      "Epoch 7/20\n",
      "1366/1366 [==============================] - 0s 255us/step - loss: 0.6479 - acc: 0.6471 - val_loss: 0.7056 - val_acc: 0.5702\n",
      "Epoch 8/20\n",
      "1366/1366 [==============================] - 0s 240us/step - loss: 0.5858 - acc: 0.7225 - val_loss: 0.7524 - val_acc: 0.5207\n",
      "Epoch 9/20\n",
      "1366/1366 [==============================] - 0s 236us/step - loss: 0.5310 - acc: 0.7562 - val_loss: 0.8066 - val_acc: 0.5331\n",
      "Epoch 10/20\n",
      "1366/1366 [==============================] - 0s 257us/step - loss: 0.4486 - acc: 0.8177 - val_loss: 0.8960 - val_acc: 0.5165\n",
      "Epoch 11/20\n",
      "1366/1366 [==============================] - 0s 236us/step - loss: 0.3955 - acc: 0.8404 - val_loss: 1.0265 - val_acc: 0.5413\n",
      "Epoch 12/20\n",
      "1366/1366 [==============================] - 0s 249us/step - loss: 0.3396 - acc: 0.8697 - val_loss: 1.0763 - val_acc: 0.5124\n",
      "Epoch 13/20\n",
      "1366/1366 [==============================] - 0s 259us/step - loss: 0.2787 - acc: 0.8939 - val_loss: 1.2084 - val_acc: 0.5331\n",
      "Epoch 14/20\n",
      "1366/1366 [==============================] - 0s 239us/step - loss: 0.2404 - acc: 0.9122 - val_loss: 1.4460 - val_acc: 0.5248\n",
      "Epoch 15/20\n",
      "1366/1366 [==============================] - 0s 250us/step - loss: 0.1995 - acc: 0.9261 - val_loss: 1.5883 - val_acc: 0.5083\n",
      "Epoch 16/20\n",
      "1366/1366 [==============================] - 0s 244us/step - loss: 0.2001 - acc: 0.9246 - val_loss: 1.6183 - val_acc: 0.5289\n",
      "Epoch 17/20\n",
      "1366/1366 [==============================] - 0s 248us/step - loss: 0.1678 - acc: 0.9414 - val_loss: 1.7958 - val_acc: 0.5372\n",
      "Epoch 18/20\n",
      "1366/1366 [==============================] - 0s 254us/step - loss: 0.1574 - acc: 0.9502 - val_loss: 1.9733 - val_acc: 0.5455\n",
      "Epoch 19/20\n",
      "1366/1366 [==============================] - 0s 240us/step - loss: 0.1350 - acc: 0.9495 - val_loss: 2.1006 - val_acc: 0.4917\n",
      "Epoch 20/20\n",
      "1366/1366 [==============================] - 0s 237us/step - loss: 0.1487 - acc: 0.9531 - val_loss: 2.0136 - val_acc: 0.5000\n",
      "1608/1608 [==============================] - 0s 30us/step\n",
      "378/378 [==============================] - 0s 43us/step\n",
      "Accuracy: 54.10\n",
      "Train on 1366 samples, validate on 242 samples\n",
      "Epoch 1/20\n",
      "1366/1366 [==============================] - 1s 1ms/step - loss: 0.6950 - acc: 0.5139 - val_loss: 0.6894 - val_acc: 0.5579\n",
      "Epoch 2/20\n",
      "1366/1366 [==============================] - 0s 274us/step - loss: 0.6923 - acc: 0.5381 - val_loss: 0.6890 - val_acc: 0.5579\n",
      "Epoch 3/20\n",
      "1366/1366 [==============================] - 0s 261us/step - loss: 0.6917 - acc: 0.5359 - val_loss: 0.6882 - val_acc: 0.5579\n",
      "Epoch 4/20\n",
      "1366/1366 [==============================] - 0s 270us/step - loss: 0.6875 - acc: 0.5469 - val_loss: 0.6878 - val_acc: 0.5579\n",
      "Epoch 5/20\n",
      "1366/1366 [==============================] - 0s 255us/step - loss: 0.6877 - acc: 0.5527 - val_loss: 0.6879 - val_acc: 0.5579\n",
      "Epoch 6/20\n",
      "1366/1366 [==============================] - 0s 258us/step - loss: 0.6827 - acc: 0.5520 - val_loss: 0.6863 - val_acc: 0.5537\n",
      "Epoch 7/20\n",
      "1366/1366 [==============================] - 0s 265us/step - loss: 0.6724 - acc: 0.6025 - val_loss: 0.6849 - val_acc: 0.5537\n",
      "Epoch 8/20\n",
      "1366/1366 [==============================] - 0s 270us/step - loss: 0.6470 - acc: 0.6303 - val_loss: 0.6897 - val_acc: 0.5702\n",
      "Epoch 9/20\n",
      "1366/1366 [==============================] - 0s 261us/step - loss: 0.6065 - acc: 0.6823 - val_loss: 0.7002 - val_acc: 0.5702\n",
      "Epoch 10/20\n",
      "1366/1366 [==============================] - 0s 270us/step - loss: 0.5571 - acc: 0.7284 - val_loss: 0.7279 - val_acc: 0.5868\n",
      "Epoch 11/20\n",
      "1366/1366 [==============================] - 0s 255us/step - loss: 0.4836 - acc: 0.7994 - val_loss: 0.8397 - val_acc: 0.5537\n",
      "Epoch 12/20\n",
      "1366/1366 [==============================] - 0s 256us/step - loss: 0.4197 - acc: 0.8287 - val_loss: 0.8439 - val_acc: 0.5702\n",
      "Epoch 13/20\n",
      "1366/1366 [==============================] - 0s 289us/step - loss: 0.3365 - acc: 0.8770 - val_loss: 0.9934 - val_acc: 0.5661\n",
      "Epoch 14/20\n",
      "1366/1366 [==============================] - 0s 252us/step - loss: 0.2819 - acc: 0.8968 - val_loss: 1.0951 - val_acc: 0.5620\n",
      "Epoch 15/20\n",
      "1366/1366 [==============================] - 0s 254us/step - loss: 0.2388 - acc: 0.9209 - val_loss: 1.2445 - val_acc: 0.5620\n",
      "Epoch 16/20\n",
      "1366/1366 [==============================] - 0s 276us/step - loss: 0.2478 - acc: 0.9107 - val_loss: 1.2862 - val_acc: 0.5083\n",
      "Epoch 17/20\n",
      "1366/1366 [==============================] - 0s 259us/step - loss: 0.1725 - acc: 0.9422 - val_loss: 1.4954 - val_acc: 0.5413\n",
      "Epoch 18/20\n",
      "1366/1366 [==============================] - 0s 270us/step - loss: 0.1578 - acc: 0.9451 - val_loss: 1.5127 - val_acc: 0.5372\n",
      "Epoch 19/20\n",
      "1366/1366 [==============================] - 0s 259us/step - loss: 0.1385 - acc: 0.9502 - val_loss: 1.6006 - val_acc: 0.5496\n",
      "Epoch 20/20\n",
      "1366/1366 [==============================] - 1s 383us/step - loss: 0.1230 - acc: 0.9575 - val_loss: 1.6920 - val_acc: 0.5331\n",
      "1608/1608 [==============================] - 0s 57us/step\n",
      "378/378 [==============================] - 0s 48us/step\n",
      "Accuracy: 54.10\n",
      "Train on 1366 samples, validate on 242 samples\n",
      "Epoch 1/20\n",
      "1366/1366 [==============================] - 2s 1ms/step - loss: 0.6954 - acc: 0.5066 - val_loss: 0.6887 - val_acc: 0.5579\n",
      "Epoch 2/20\n",
      "1366/1366 [==============================] - 0s 272us/step - loss: 0.6923 - acc: 0.5286 - val_loss: 0.6893 - val_acc: 0.5579\n",
      "Epoch 3/20\n",
      "1366/1366 [==============================] - 0s 272us/step - loss: 0.6882 - acc: 0.5344 - val_loss: 0.6880 - val_acc: 0.5537\n",
      "Epoch 4/20\n",
      "1366/1366 [==============================] - 0s 266us/step - loss: 0.6844 - acc: 0.5600 - val_loss: 0.6876 - val_acc: 0.5702\n",
      "Epoch 5/20\n",
      "1366/1366 [==============================] - 0s 272us/step - loss: 0.6722 - acc: 0.5842 - val_loss: 0.6876 - val_acc: 0.5372\n",
      "Epoch 6/20\n",
      "1366/1366 [==============================] - 0s 263us/step - loss: 0.6515 - acc: 0.6083 - val_loss: 0.6970 - val_acc: 0.5124\n",
      "Epoch 7/20\n",
      "1366/1366 [==============================] - 0s 262us/step - loss: 0.6245 - acc: 0.6391 - val_loss: 0.7136 - val_acc: 0.5413\n",
      "Epoch 8/20\n",
      "1366/1366 [==============================] - 0s 279us/step - loss: 0.5668 - acc: 0.7240 - val_loss: 0.7685 - val_acc: 0.5909\n",
      "Epoch 9/20\n",
      "1366/1366 [==============================] - 0s 263us/step - loss: 0.5098 - acc: 0.7533 - val_loss: 0.8242 - val_acc: 0.5785\n",
      "Epoch 10/20\n",
      "1366/1366 [==============================] - 0s 263us/step - loss: 0.4627 - acc: 0.7870 - val_loss: 0.8588 - val_acc: 0.5661\n",
      "Epoch 11/20\n",
      "1366/1366 [==============================] - 0s 257us/step - loss: 0.3950 - acc: 0.8265 - val_loss: 0.9752 - val_acc: 0.5620\n",
      "Epoch 12/20\n",
      "1366/1366 [==============================] - 0s 271us/step - loss: 0.3219 - acc: 0.8690 - val_loss: 1.1849 - val_acc: 0.5496\n",
      "Epoch 13/20\n",
      "1366/1366 [==============================] - 0s 268us/step - loss: 0.2557 - acc: 0.8939 - val_loss: 1.3322 - val_acc: 0.5496\n",
      "Epoch 14/20\n"
     ]
    },
    {
     "name": "stdout",
     "output_type": "stream",
     "text": [
      "1366/1366 [==============================] - 0s 258us/step - loss: 0.2419 - acc: 0.9122 - val_loss: 1.3493 - val_acc: 0.5826\n",
      "Epoch 15/20\n",
      "1366/1366 [==============================] - 0s 242us/step - loss: 0.1797 - acc: 0.9312 - val_loss: 1.7336 - val_acc: 0.5702\n",
      "Epoch 16/20\n",
      "1366/1366 [==============================] - 0s 266us/step - loss: 0.1920 - acc: 0.9297 - val_loss: 1.5858 - val_acc: 0.5620\n",
      "Epoch 17/20\n",
      "1366/1366 [==============================] - 0s 242us/step - loss: 0.1455 - acc: 0.9517 - val_loss: 1.8154 - val_acc: 0.5785\n",
      "Epoch 18/20\n",
      "1366/1366 [==============================] - 0s 240us/step - loss: 0.1423 - acc: 0.9531 - val_loss: 1.7882 - val_acc: 0.5744\n",
      "Epoch 19/20\n",
      "1366/1366 [==============================] - 0s 246us/step - loss: 0.1214 - acc: 0.9583 - val_loss: 1.8695 - val_acc: 0.5620\n",
      "Epoch 20/20\n",
      "1366/1366 [==============================] - 0s 255us/step - loss: 0.1202 - acc: 0.9605 - val_loss: 2.1212 - val_acc: 0.5950\n",
      "1608/1608 [==============================] - 0s 33us/step\n",
      "378/378 [==============================] - 0s 51us/step\n",
      "Accuracy: 54.10\n"
     ]
    },
    {
     "data": {
      "image/png": "[encoded data removed]",
      "text/plain": [
       "<Figure size 432x288 with 1 Axes>"
      ]
     },
     "metadata": {
      "needs_background": "light"
     },
     "output_type": "display_data"
    }
   ],
   "source": [
    "#Case 1 continued\n",
    "#Checking to see if adjusting the l2 regularization parameter can help improve the calculation\n",
    "#optimizing the regularization hyperparameter value using grid search to determine best l2 parameter\n",
    "\n",
    "#L2 regularization techniques\n",
    "#Trying another model to improve accuracy\n",
    "from keras import regularizers\n",
    "from matplotlib import pyplot\n",
    "# load the dataset\n",
    "dataset = pd.read_csv('./stocknews/Combined_News_DJIA.csv')\n",
    "# split into input (X) and output (y) variables\n",
    "# define the keras model\n",
    "# grid search values\n",
    "values = [1e-1, 1e-2, 1e-3, 1e-4, 1e-5, 1e-6]\n",
    "all_train, all_test = list(), list()\n",
    "for param in values:\n",
    "    model3 = Sequential()\n",
    "    model3.add(Dense(64, input_dim=400, activation='relu'))\n",
    "    model3.add(Dropout(0.5))\n",
    "    model3.add(Dense(48, activation='relu', kernel_regularizer=regularizers.l2(param) ))\n",
    "    model3.add(Dropout(0.5))\n",
    "    model3.add(Dense(32, activation='relu', kernel_regularizer=regularizers.l2(param)))\n",
    "    model3.add(Dropout(0.5))\n",
    "    model3.add(Dense(2, activation='softmax'))\n",
    "# compile the keras model\n",
    "    model3.compile(loss='binary_crossentropy', optimizer='adam', metrics=['accuracy'])\n",
    "# fit the keras model on the dataset\n",
    "    history1=model3.fit(X_train, Y_train, epochs=20, batch_size=10, validation_split= 0.15)\n",
    "#model.fit(X_train, Y_train, nb_epoch=2, batch_size=16, validation_split=0.15)\n",
    "# evaluate the keras model\n",
    "    _, train_acc = model3.evaluate(X_train, Y_train)\n",
    "    _, test_acc = model3.evaluate(X_test, Y_test)\n",
    "    print('Accuracy: %.2f' % (accuracy*100))\n",
    "    all_train.append(train_acc)\n",
    "    all_test.append(test_acc)\n",
    "#plotting accuracy\n",
    "#pyplot.plot(history.history['acc'], label='train')\n",
    "#pyplot.plot(history.history['val_acc'], label='test')\n",
    "pyplot.semilogx(values, all_train, label='train', marker='o')\n",
    "pyplot.semilogx(values, all_test, label='test', marker='o')\n",
    "pyplot.legend()\n",
    "pyplot.show()"
   ]
  },
  {
   "cell_type": "code",
   "execution_count": 21,
   "metadata": {},
   "outputs": [
    {
     "name": "stdout",
     "output_type": "stream",
     "text": [
      "378/378 [==============================] - 0s 61us/step\n"
     ]
    },
    {
     "data": {
      "text/plain": [
       "[2.012203299810016, 0.5846560849714532]"
      ]
     },
     "execution_count": 21,
     "metadata": {},
     "output_type": "execute_result"
    }
   ],
   "source": [
    "model3.evaluate(X_test,Y_test)"
   ]
  },
  {
   "cell_type": "code",
   "execution_count": 28,
   "metadata": {},
   "outputs": [
    {
     "data": {
      "text/plain": [
       "array([[ 69,  40],\n",
       "       [117, 152]])"
      ]
     },
     "execution_count": 28,
     "metadata": {},
     "output_type": "execute_result"
    }
   ],
   "source": [
    "y_pred3 = model3.predict(X_test)\n",
    "y_pred3 = np.argmax(y_pred3, axis=1)\n",
    "cm3 = confusion_matrix(y_pred3, y_test)\n",
    "cm3"
   ]
  },
  {
   "cell_type": "code",
   "execution_count": 22,
   "metadata": {},
   "outputs": [
    {
     "name": "stdout",
     "output_type": "stream",
     "text": [
      "Train on 1366 samples, validate on 242 samples\n",
      "Epoch 1/20\n",
      "1366/1366 [==============================] - 2s 1ms/step - loss: 311.8764 - acc: 0.5381 - val_loss: 113.1344 - val_acc: 0.5579\n",
      "Epoch 2/20\n",
      "1366/1366 [==============================] - 0s 305us/step - loss: 33.4992 - acc: 0.5381 - val_loss: 1.5243 - val_acc: 0.5579\n",
      "Epoch 3/20\n",
      "1366/1366 [==============================] - 0s 258us/step - loss: 1.2984 - acc: 0.5381 - val_loss: 1.2610 - val_acc: 0.5579\n",
      "Epoch 4/20\n",
      "1366/1366 [==============================] - 0s 260us/step - loss: 1.2700 - acc: 0.5381 - val_loss: 1.2659 - val_acc: 0.5579\n",
      "Epoch 5/20\n",
      "1366/1366 [==============================] - 0s 258us/step - loss: 1.2707 - acc: 0.5381 - val_loss: 1.2561 - val_acc: 0.5579\n",
      "Epoch 6/20\n",
      "1366/1366 [==============================] - 0s 278us/step - loss: 1.2704 - acc: 0.5381 - val_loss: 1.2788 - val_acc: 0.5579\n",
      "Epoch 7/20\n",
      "1366/1366 [==============================] - 0s 265us/step - loss: 1.2702 - acc: 0.5381 - val_loss: 1.2646 - val_acc: 0.5579\n",
      "Epoch 8/20\n",
      "1366/1366 [==============================] - 0s 249us/step - loss: 1.2690 - acc: 0.5381 - val_loss: 1.2784 - val_acc: 0.5579\n",
      "Epoch 9/20\n",
      "1366/1366 [==============================] - 0s 252us/step - loss: 1.2697 - acc: 0.5381 - val_loss: 1.2684 - val_acc: 0.5579\n",
      "Epoch 10/20\n",
      "1366/1366 [==============================] - 0s 250us/step - loss: 1.2699 - acc: 0.5381 - val_loss: 1.2575 - val_acc: 0.5579\n",
      "Epoch 11/20\n",
      "1366/1366 [==============================] - 0s 243us/step - loss: 1.2690 - acc: 0.5381 - val_loss: 1.2722 - val_acc: 0.5579\n",
      "Epoch 12/20\n",
      "1366/1366 [==============================] - 0s 254us/step - loss: 1.2690 - acc: 0.5381 - val_loss: 1.2583 - val_acc: 0.5579\n",
      "Epoch 13/20\n",
      "1366/1366 [==============================] - 0s 264us/step - loss: 1.2692 - acc: 0.5381 - val_loss: 1.2698 - val_acc: 0.5579\n",
      "Epoch 14/20\n",
      "1366/1366 [==============================] - 0s 254us/step - loss: 1.2692 - acc: 0.5381 - val_loss: 1.2669 - val_acc: 0.5579\n",
      "Epoch 15/20\n",
      "1366/1366 [==============================] - 0s 245us/step - loss: 1.2695 - acc: 0.5381 - val_loss: 1.2700 - val_acc: 0.5579\n",
      "Epoch 16/20\n",
      "1366/1366 [==============================] - 0s 254us/step - loss: 1.2688 - acc: 0.5381 - val_loss: 1.2703 - val_acc: 0.5579\n",
      "Epoch 17/20\n",
      "1366/1366 [==============================] - 0s 250us/step - loss: 1.2691 - acc: 0.5381 - val_loss: 1.2673 - val_acc: 0.5579\n",
      "Epoch 18/20\n",
      "1366/1366 [==============================] - 0s 257us/step - loss: 1.2691 - acc: 0.5381 - val_loss: 1.2787 - val_acc: 0.5579\n",
      "Epoch 19/20\n",
      "1366/1366 [==============================] - 0s 260us/step - loss: 1.2688 - acc: 0.5381 - val_loss: 1.2646 - val_acc: 0.5579\n",
      "Epoch 20/20\n",
      "1366/1366 [==============================] - 0s 253us/step - loss: 1.2693 - acc: 0.5381 - val_loss: 1.2532 - val_acc: 0.5579\n",
      "1608/1608 [==============================] - 0s 41us/step\n",
      "Accuracy: 54.10\n",
      "dict_keys(['val_loss', 'val_acc', 'loss', 'acc'])\n"
     ]
    },
    {
     "data": {
      "image/png": "[encoded data removed]",
      "text/plain": [
       "<Figure size 432x288 with 1 Axes>"
      ]
     },
     "metadata": {
      "needs_background": "light"
     },
     "output_type": "display_data"
    }
   ],
   "source": [
    "#Case 2 : Trying an L1 regularization\n",
    "\n",
    "#from keras import regularizers\n",
    "#from matplotlib import pyplot\n",
    "# load the dataset\n",
    "dataset = pd.read_csv('./stocknews/Combined_News_DJIA.csv')\n",
    "# split into input (X) and output (y) variables\n",
    "# define the keras model\n",
    "model4 = Sequential()\n",
    "model4.add(Dense(64, input_dim=400, activation='relu'))\n",
    "model4.add(Dropout(0.05))\n",
    "model4.add(Dense(48, activation='relu', kernel_regularizer=regularizers.l1(1) ))\n",
    "model4.add(Dropout(0.05))\n",
    "model4.add(Dense(32, activation='relu', kernel_regularizer=regularizers.l1(1)))\n",
    "model4.add(Dropout(0.05))\n",
    "model4.add(Dense(2, activation='softmax'))\n",
    "# compile the keras model\n",
    "model4.compile(loss='binary_crossentropy', optimizer='adam', metrics=['accuracy'])\n",
    "# fit the keras model on the dataset\n",
    "history=model4.fit(X_train, Y_train, epochs=20, batch_size=10, validation_split= 0.15)\n",
    "#model.fit(X_train, Y_train, nb_epoch=2, batch_size=16, validation_split=0.15)\n",
    "# evaluate the keras model\n",
    "_, accuracy = model4.evaluate(X_train, Y_train)\n",
    "print('Accuracy: %.2f' % (accuracy*100))\n",
    "print(history.history.keys())\n",
    "#plotting accuracy\n",
    "pyplot.plot(history.history['acc'], label='train')\n",
    "pyplot.plot(history.history['val_acc'], label='test')\n",
    "pyplot.legend()\n",
    "pyplot.show()"
   ]
  },
  {
   "cell_type": "code",
   "execution_count": 23,
   "metadata": {},
   "outputs": [
    {
     "name": "stdout",
     "output_type": "stream",
     "text": [
      "378/378 [==============================] - 0s 56us/step\n"
     ]
    },
    {
     "data": {
      "text/plain": [
       "[1.2606381474348602, 0.5079365098287189]"
      ]
     },
     "execution_count": 23,
     "metadata": {},
     "output_type": "execute_result"
    }
   ],
   "source": [
    "model4.evaluate(X_test,Y_test)"
   ]
  },
  {
   "cell_type": "code",
   "execution_count": 24,
   "metadata": {},
   "outputs": [
    {
     "name": "stdout",
     "output_type": "stream",
     "text": [
      "Train on 1366 samples, validate on 242 samples\n",
      "Epoch 1/20\n",
      "1366/1366 [==============================] - 2s 1ms/step - loss: 1.2586 - acc: 0.5227 - val_loss: 0.9431 - val_acc: 0.5579\n",
      "Epoch 2/20\n",
      "1366/1366 [==============================] - 0s 300us/step - loss: 0.8281 - acc: 0.5432 - val_loss: 0.7505 - val_acc: 0.5579\n",
      "Epoch 3/20\n",
      "1366/1366 [==============================] - 1s 394us/step - loss: 0.7242 - acc: 0.5373 - val_loss: 0.7052 - val_acc: 0.5579\n",
      "Epoch 4/20\n",
      "1366/1366 [==============================] - 1s 401us/step - loss: 0.6995 - acc: 0.5381 - val_loss: 0.6945 - val_acc: 0.5579\n",
      "Epoch 5/20\n",
      "1366/1366 [==============================] - 1s 380us/step - loss: 0.6948 - acc: 0.5381 - val_loss: 0.6922 - val_acc: 0.5579\n",
      "Epoch 6/20\n",
      "1366/1366 [==============================] - 0s 340us/step - loss: 0.6892 - acc: 0.5395 - val_loss: 0.6919 - val_acc: 0.5579\n",
      "Epoch 7/20\n",
      "1366/1366 [==============================] - 1s 507us/step - loss: 0.6896 - acc: 0.5388 - val_loss: 0.6921 - val_acc: 0.5579\n",
      "Epoch 8/20\n",
      "1366/1366 [==============================] - 1s 476us/step - loss: 0.6816 - acc: 0.5981 - val_loss: 0.6987 - val_acc: 0.5744\n",
      "Epoch 9/20\n",
      "1366/1366 [==============================] - 1s 389us/step - loss: 0.6635 - acc: 0.6493 - val_loss: 0.7084 - val_acc: 0.5207\n",
      "Epoch 10/20\n",
      "1366/1366 [==============================] - 0s 351us/step - loss: 0.6491 - acc: 0.6918 - val_loss: 0.7384 - val_acc: 0.5702\n",
      "Epoch 11/20\n",
      "1366/1366 [==============================] - 1s 423us/step - loss: 0.6075 - acc: 0.7416 - val_loss: 0.8187 - val_acc: 0.5455\n",
      "Epoch 12/20\n",
      "1366/1366 [==============================] - 0s 337us/step - loss: 0.5574 - acc: 0.7936 - val_loss: 0.8655 - val_acc: 0.5248\n",
      "Epoch 13/20\n",
      "1366/1366 [==============================] - 0s 338us/step - loss: 0.4944 - acc: 0.8389 - val_loss: 1.0017 - val_acc: 0.5331\n",
      "Epoch 14/20\n",
      "1366/1366 [==============================] - 0s 282us/step - loss: 0.4493 - acc: 0.8712 - val_loss: 1.1372 - val_acc: 0.5579\n",
      "Epoch 15/20\n",
      "1366/1366 [==============================] - 0s 275us/step - loss: 0.4035 - acc: 0.9019 - val_loss: 1.3067 - val_acc: 0.5331\n",
      "Epoch 16/20\n",
      "1366/1366 [==============================] - 0s 278us/step - loss: 0.3577 - acc: 0.9224 - val_loss: 1.3911 - val_acc: 0.5165\n",
      "Epoch 17/20\n",
      "1366/1366 [==============================] - 0s 292us/step - loss: 0.3435 - acc: 0.9224 - val_loss: 1.5617 - val_acc: 0.5248\n",
      "Epoch 18/20\n",
      "1366/1366 [==============================] - 1s 476us/step - loss: 0.2947 - acc: 0.9495 - val_loss: 1.7130 - val_acc: 0.5248\n",
      "Epoch 19/20\n",
      "1366/1366 [==============================] - 0s 348us/step - loss: 0.2893 - acc: 0.9458 - val_loss: 1.7783 - val_acc: 0.5372\n",
      "Epoch 20/20\n",
      "1366/1366 [==============================] - 0s 322us/step - loss: 0.2723 - acc: 0.9539 - val_loss: 1.8059 - val_acc: 0.5207\n",
      "1608/1608 [==============================] - 0s 54us/step\n",
      "Accuracy: 92.41\n",
      "dict_keys(['val_loss', 'val_acc', 'loss', 'acc'])\n"
     ]
    },
    {
     "data": {
      "image/png": "[encoded data removed]",
      "text/plain": [
       "<Figure size 432x288 with 1 Axes>"
      ]
     },
     "metadata": {
      "needs_background": "light"
     },
     "output_type": "display_data"
    }
   ],
   "source": [
    "#model 3 seems best to compete with the default so trying the categorical_crossentropy\n",
    "#l2 =0.01\n",
    "model5 = Sequential()\n",
    "model5.add(Dense(100, input_dim=400, activation='relu'))\n",
    "model5.add(Dropout(0.5))\n",
    "model5.add(Dense(48, activation='relu', kernel_regularizer=regularizers.l2(0.01) ))\n",
    "model5.add(Dropout(0.5))\n",
    "model5.add(Dense(32, activation='relu', kernel_regularizer=regularizers.l2(0.01)))\n",
    "model5.add(Dropout(0.5))\n",
    "model5.add(Dense(2, activation='softmax'))\n",
    "# compile the keras model\n",
    "model5.compile(loss='categorical_crossentropy', optimizer='adam', metrics=['accuracy'])\n",
    "# fit the keras model on the dataset\n",
    "history=model5.fit(X_train, Y_train, epochs=20, batch_size=10, validation_split= 0.15)\n",
    "#model.fit(X_train, Y_train, nb_epoch=2, batch_size=16, validation_split=0.15)\n",
    "# evaluate the keras model\n",
    "_, accuracy = model5.evaluate(X_train, Y_train)\n",
    "print('Accuracy: %.2f' % (accuracy*100))\n",
    "print(history.history.keys())\n",
    "#plotting accuracy\n",
    "pyplot.plot(history.history['acc'], label='train')\n",
    "pyplot.plot(history.history['val_acc'], label='test')\n",
    "pyplot.legend()\n",
    "pyplot.show()\n",
    "\n"
   ]
  },
  {
   "cell_type": "code",
   "execution_count": 25,
   "metadata": {},
   "outputs": [
    {
     "name": "stdout",
     "output_type": "stream",
     "text": [
      "378/378 [==============================] - 0s 69us/step\n"
     ]
    },
    {
     "data": {
      "text/plain": [
       "[1.741166631380717, 0.5687830706752798]"
      ]
     },
     "execution_count": 25,
     "metadata": {},
     "output_type": "execute_result"
    }
   ],
   "source": [
    "#Evalauting the performance of model5\n",
    "model5.evaluate(X_test,Y_test)"
   ]
  },
  {
   "cell_type": "code",
   "execution_count": 26,
   "metadata": {},
   "outputs": [
    {
     "data": {
      "text/plain": [
       "array([[ 69,  46],\n",
       "       [117, 146]])"
      ]
     },
     "execution_count": 26,
     "metadata": {},
     "output_type": "execute_result"
    }
   ],
   "source": [
    "#Building a confusion matrix to see prediction results\n",
    "y_pred5 = model5.predict(X_test)\n",
    "y_pred5 = np.argmax(y_pred5, axis=1)\n",
    "cm5 = confusion_matrix(y_pred5, y_test)\n",
    "cm5"
   ]
  },
  {
   "cell_type": "code",
   "execution_count": 27,
   "metadata": {},
   "outputs": [],
   "source": [
    "#Model 3 is the best."
   ]
  }
 ],
 "metadata": {
  "kernelspec": {
   "display_name": "Python 3",
   "language": "python",
   "name": "python3"
  },
  "language_info": {
   "codemirror_mode": {
    "name": "ipython",
    "version": 3
   },
   "file_extension": ".py",
   "mimetype": "text/x-python",
   "name": "python",
   "nbconvert_exporter": "python",
   "pygments_lexer": "ipython3",
   "version": "3.6.9"
  }
 },
 "nbformat": 4,
 "nbformat_minor": 2
}
